{
 "cells": [
  {
   "cell_type": "code",
   "execution_count": 1,
   "metadata": {},
   "outputs": [],
   "source": [
    "import random\n",
    "from typing import List"
   ]
  },
  {
   "cell_type": "code",
   "execution_count": 2,
   "metadata": {},
   "outputs": [],
   "source": [
    "def monty_hall_game(switch_doors: bool) -> bool:\n",
    "    # the car is behind one of the doors\n",
    "    doors = ['car'] + ['goat'] * 2\n",
    "    random.shuffle(doors)\n",
    "\n",
    "    # the player picks a door\n",
    "    initial_choice = random.choice([0, 1, 2]) #  range(3) would be better\n",
    "\n",
    "    # the host opens a door with a goat\n",
    "    doors_revealed = [i for i in range(3) if i != initial_choice and doors[i] == 'goat']\n",
    "    door_reveald = random.choice(doors_revealed)\n",
    "    \n",
    "    # the player switches doors\n",
    "    if switch_doors:\n",
    "        final_choice = [i for i in range(3) if i != initial_choice and i != door_reveald][0]\n",
    "    else:\n",
    "        # the player sticks with their initial choice\n",
    "        final_choice = initial_choice\n",
    "\n",
    "    # the player wins if they picked the car\n",
    "    return doors[final_choice] == 'car'"
   ]
  },
  {
   "cell_type": "code",
   "execution_count": 4,
   "metadata": {},
   "outputs": [],
   "source": [
    "def monty_hall_sim(num_games: int = 10000) -> None:\n",
    "\n",
    "    # simulate the game n times and return the fraction of wins\n",
    "\n",
    "    num_wins_without_switching =  sum(monty_hall_game(switch_doors=False) for _ in range(num_games))\n",
    "    num_wins_switching = sum(monty_hall_game(switch_doors=True) for _ in range(num_games))\n",
    "\n",
    "    return num_wins_switching , num_wins_without_switching"
   ]
  },
  {
   "cell_type": "code",
   "execution_count": 26,
   "metadata": {},
   "outputs": [
    {
     "data": {
      "text/plain": [
       "(6646, 3358)"
      ]
     },
     "execution_count": 26,
     "metadata": {},
     "output_type": "execute_result"
    }
   ],
   "source": [
    "monty_hall_sim(10000)"
   ]
  }
 ],
 "metadata": {
  "kernelspec": {
   "display_name": "base",
   "language": "python",
   "name": "python3"
  },
  "language_info": {
   "codemirror_mode": {
    "name": "ipython",
    "version": 3
   },
   "file_extension": ".py",
   "mimetype": "text/x-python",
   "name": "python",
   "nbconvert_exporter": "python",
   "pygments_lexer": "ipython3",
   "version": "3.12.2"
  }
 },
 "nbformat": 4,
 "nbformat_minor": 2
}
